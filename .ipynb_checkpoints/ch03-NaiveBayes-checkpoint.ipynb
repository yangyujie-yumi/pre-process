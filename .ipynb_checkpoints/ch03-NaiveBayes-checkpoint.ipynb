{
 "cells": [
  {
   "cell_type": "markdown",
   "metadata": {},
   "source": [
    "## Lecture 03\n",
    "---\n",
    "# Naive Bayes\n",
    "\n",
    "### 0. Introduction\n",
    "Bayes' theorem is the premier method for understanding the probability of some event $P(A|B)$, given some new information, $P(B|A)$, and a prior belief in the probability of the event, P(A):\n",
    "$$\n",
    "P(A | B) = \\frac{P(B|A)P(A)}{P(B)}\n",
    "$$\n",
    "\n",
    "The Bayesian method's popularity has skyrocked in the last decade, more and more rivaling the traditional frequentist applications in academia, government, and business. In machine learning, one applicaiton of Bayes' theorem to classifican comes in the form of the naive Bayes classifier. Naive Bayes classifiers combine a number of desirable qualities in practical machine learning into a single classifier:\n",
    "\n",
    "1. An intuitive approach\n",
    "2. The ability to work with small data\n",
    "3. Low computation costs for training and prediction\n",
    "4. Often solid results in a variety of settigns\n",
    "\n",
    "Specifically, a naive bayes classifier is based on:\n",
    "$$\n",
    "P(y | x_1, ..., x_j) = \\frac{P(x_1, ..., x_j | y)P(y)}{P(x_1,...,x_j)}\n",
    "$$\n",
    "where,\n",
    "* $P(y | x_1, ..., x_j)$ is called the *posterior* and is the probability that an observation is class y given observation's values for the j features, $x_1, ..., x_j$\n",
    "* $P(x_1, ..., x_j)$ is called likelihood and is the *likelihood* of an observation's values for features, $x_1, ..., x_j$, given their class y.\n",
    "* $P(y)$ is called the *prior* and is our belief for the probability of class y before looking at the data\n",
    "* P($x_1, ..., x_j$) is called the *marginal probability*\n",
    "\n",
    "In naive Bayes, we compare an obsrvation's posterior values for each possible class. Specifically, because the marginal probability is constant across these comparisons, we compare the numerators of the posterior for each class. For each observation the class with the greatest posterior numerator becomes the predicted class, $\\hat y$.\n",
    "\n",
    "There are two important things to note about naive Bayes classifiers.\n",
    "\n",
    "1. for each feature in the data, we have to assume the statistical distribution of the likelihood, $P(x_1, ..., x_j)$.\n",
    "- the common distributions are the normal (Gaussian), multinomial, and Bernoulli distributions.\n",
    "- the distribution chose is often determined by the nature of the features (continuous, binary, etc.)\n",
    "\n",
    "2. naive Bayes gets its name because we assume that each feature, and its resulting likelihood, is independent. This \"naive\" assumption is frequently wrong, yet in practice does little to prevent building high quality classifiers\n",
    "\n",
    "### 1. Training a Classifier for Continuous Features"
   ]
  },
  {
   "cell_type": "code",
   "execution_count": 2,
   "metadata": {},
   "outputs": [
    {
     "data": {
      "text/plain": [
       "array([1])"
      ]
     },
     "execution_count": 2,
     "metadata": {},
     "output_type": "execute_result"
    }
   ],
   "source": [
    "from sklearn import datasets\n",
    "\n",
    "iris = datasets.load_iris()\n",
    "features = iris.data\n",
    "target = iris.target\n",
    "\n",
    "from sklearn.naive_bayes import GaussianNB\n",
    "gnb_classifier = GaussianNB()\n",
    "gnb_model = gnb_classifier.fit(features, target)\n",
    "\n",
    "new_observation = [[4, 4, 4, 0.4]]\n",
    "gnb_model.predict(new_observation)"
   ]
  },
  {
   "cell_type": "code",
   "execution_count": 48,
   "metadata": {},
   "outputs": [
    {
     "name": "stdout",
     "output_type": "stream",
     "text": [
      "Number of mislabeled points out of a total 150 points : 6\n"
     ]
    }
   ],
   "source": [
    "y_pred = gnb_model.predict(features)\n",
    "\n",
    "print(\"Number of mislabeled points out of a total %d points : %d\"\n",
    "      % (features.shape[0],(target != y_pred).sum()))"
   ]
  },
  {
   "cell_type": "code",
   "execution_count": 49,
   "metadata": {},
   "outputs": [
    {
     "data": {
      "text/plain": [
       "array([[50,  0,  0],\n",
       "       [ 0, 47,  3],\n",
       "       [ 0,  3, 47]])"
      ]
     },
     "execution_count": 49,
     "metadata": {},
     "output_type": "execute_result"
    }
   ],
   "source": [
    "from sklearn.metrics import confusion_matrix\n",
    "confusion_matrix(target, y_pred)"
   ]
  },
  {
   "cell_type": "code",
   "execution_count": 62,
   "metadata": {},
   "outputs": [
    {
     "name": "stdout",
     "output_type": "stream",
     "text": [
      "accuracy_score \t= 0.96\n",
      "precision_score = [1.   0.94 0.94]\n",
      "recall_score \t= [1.   0.94 0.94]\n",
      "f1_score \t= [1.   0.94 0.94]\n"
     ]
    }
   ],
   "source": [
    "from sklearn.metrics import accuracy_score, precision_score, recall_score,f1_score\n",
    "print(\"accuracy_score \\t=\",accuracy_score(target, y_pred))\n",
    "print(\"precision_score =\",precision_score(target, y_pred,average=None))\n",
    "print(\"recall_score \\t=\",recall_score(target, y_pred,average=None))\n",
    "print(\"f1_score \\t=\",f1_score(target, y_pred,average=None))"
   ]
  },
  {
   "cell_type": "markdown",
   "metadata": {},
   "source": [
    "### Discussion\n",
    "The most common type of naive Bayes classifier is the Gaussian naive Bayesa. In Gaussian naive Bayesam we assuem that the likelihood of the feature values, x, given an observation is of class y, follows a normal distribution:\n",
    "$$\n",
    "p(x_j | y) = \\frac{1}{\\sqrt{2\\pi \\sigma_y^2}} e^{-\\frac{(x_j - \\mu_y)^2}{2\\sigma_y^2}}\n",
    "$$\n",
    "where $\\sigma_y^2$ and $\\mu_y$ are the variance and mean values of feature x_j for class y. Because of the assumption of the normal distribution, Gaussian naive Bayes is best used in cases when all our features are continuous.\n",
    "\n",
    "One of the interesting aspects of naive Bayes classifiers is that they allow us to assign a prior belief over the respect target classes. We can do this using `GaussianNB`'s `priors` parameter, which takes in a list of the probabilities assigned to each class of the target vector"
   ]
  },
  {
   "cell_type": "code",
   "execution_count": 2,
   "metadata": {},
   "outputs": [],
   "source": [
    "clf = GaussianNB(priors=[0.25, 0.25, 0.5])\n",
    "model = classifier.fit(features, target)"
   ]
  },
  {
   "cell_type": "markdown",
   "metadata": {},
   "source": [
    "### See Also\n",
    "* How the Naive Bayes Classifier Works (http://dataaspirant.com/2017/02/06/naive-bayes-classifier-machine-learning/)\n",
    "\n",
    "### 2.  Training a Classifier for Discrete and Count Features\n"
   ]
  },
  {
   "cell_type": "code",
   "execution_count": 64,
   "metadata": {},
   "outputs": [
    {
     "data": {
      "text/plain": [
       "array([0])"
      ]
     },
     "execution_count": 64,
     "metadata": {},
     "output_type": "execute_result"
    }
   ],
   "source": [
    "import numpy as np\n",
    "from sklearn.naive_bayes import MultinomialNB\n",
    "from sklearn.feature_extraction.text import CountVectorizer\n",
    "\n",
    "text_data = np.array(['I love Brazil. Brazil!', \n",
    "                      'Brazil is best', \n",
    "                      'Germany beats both'])\n",
    "count = CountVectorizer()\n",
    "bag_of_words = count.fit_transform(text_data)\n",
    "features = bag_of_words.toarray()\n",
    "\n",
    "target = np.array([0, 0, 1])\n",
    "\n",
    "mnb_classifier = MultinomialNB(class_prior=[0.25, 0.5])\n",
    "mnb_model = mnb_classifier.fit(features, target)\n",
    "\n",
    "new_observation = [[0, 0, 0, 1, 0, 1, 0]]\n",
    "mnb_model.predict(new_observation)"
   ]
  },
  {
   "cell_type": "code",
   "execution_count": 67,
   "metadata": {},
   "outputs": [
    {
     "data": {
      "text/plain": [
       "array([[0, 0, 0, 2, 0, 0, 1],\n",
       "       [0, 1, 0, 1, 0, 1, 0],\n",
       "       [1, 0, 1, 0, 1, 0, 0]])"
      ]
     },
     "execution_count": 67,
     "metadata": {},
     "output_type": "execute_result"
    }
   ],
   "source": [
    "features"
   ]
  },
  {
   "cell_type": "markdown",
   "metadata": {},
   "source": [
    "### Discussion\n",
    "\n",
    "Multinomial naive Bayes works similarly to Gaussian naive Bayes, but the features are assumed to be multinomial distributed. In practice this means that this classifier is commonly used when we have discrete data. One of the most common uses is text classification using bag of words or tf-idf approaches\n",
    "\n",
    "### 3. Training a Naive Bayes Classifier for Binary Features"
   ]
  },
  {
   "cell_type": "code",
   "execution_count": 119,
   "metadata": {},
   "outputs": [
    {
     "data": {
      "text/plain": [
       "array([0, 1, 1, 1])"
      ]
     },
     "execution_count": 119,
     "metadata": {},
     "output_type": "execute_result"
    }
   ],
   "source": [
    "import numpy as np\n",
    "from sklearn.naive_bayes import BernoulliNB\n",
    "\n",
    "features = np.random.randint(2, size=(100, 3))\n",
    "target = np.random.randint(2, size=(100, 1)).ravel()\n",
    "\n",
    "bnb_classifier = BernoulliNB(class_prior=[0.45, 0.5])\n",
    "bnb_model = bnb_classifier.fit(features, target)\n",
    "\n",
    "new_observation = [[1,0,1],[0,1,1],[0,0,0],[0,0,1]]\n",
    "bnb_model.predict(new_observation)"
   ]
  },
  {
   "cell_type": "code",
   "execution_count": 105,
   "metadata": {},
   "outputs": [
    {
     "data": {
      "text/plain": [
       "[(array([1, 0, 1]), 1),\n",
       " (array([1, 1, 1]), 0),\n",
       " (array([1, 1, 1]), 1),\n",
       " (array([0, 0, 0]), 1),\n",
       " (array([1, 0, 0]), 0),\n",
       " (array([0, 0, 1]), 0),\n",
       " (array([1, 1, 1]), 0),\n",
       " (array([1, 1, 0]), 0),\n",
       " (array([1, 1, 0]), 1),\n",
       " (array([0, 1, 0]), 1),\n",
       " (array([1, 0, 0]), 1),\n",
       " (array([0, 1, 0]), 1),\n",
       " (array([0, 1, 0]), 1),\n",
       " (array([0, 1, 0]), 0),\n",
       " (array([1, 0, 0]), 0),\n",
       " (array([0, 0, 1]), 0),\n",
       " (array([1, 1, 0]), 1),\n",
       " (array([1, 0, 0]), 0),\n",
       " (array([0, 0, 0]), 0),\n",
       " (array([0, 1, 1]), 1),\n",
       " (array([0, 0, 0]), 0),\n",
       " (array([1, 0, 0]), 0),\n",
       " (array([0, 0, 1]), 0),\n",
       " (array([1, 0, 1]), 0),\n",
       " (array([0, 1, 1]), 1),\n",
       " (array([1, 1, 1]), 1),\n",
       " (array([1, 0, 0]), 1),\n",
       " (array([0, 0, 1]), 0),\n",
       " (array([1, 0, 0]), 1),\n",
       " (array([0, 0, 1]), 1),\n",
       " (array([1, 1, 1]), 0),\n",
       " (array([0, 0, 0]), 1),\n",
       " (array([1, 0, 1]), 1),\n",
       " (array([0, 1, 1]), 1),\n",
       " (array([1, 0, 1]), 0),\n",
       " (array([1, 1, 1]), 0),\n",
       " (array([1, 1, 1]), 0),\n",
       " (array([0, 0, 1]), 0),\n",
       " (array([1, 1, 1]), 1),\n",
       " (array([0, 1, 1]), 0),\n",
       " (array([0, 0, 1]), 1),\n",
       " (array([1, 1, 0]), 0),\n",
       " (array([1, 0, 0]), 0),\n",
       " (array([1, 0, 1]), 1),\n",
       " (array([0, 0, 1]), 0),\n",
       " (array([0, 1, 0]), 0),\n",
       " (array([0, 1, 0]), 0),\n",
       " (array([0, 1, 1]), 1),\n",
       " (array([0, 0, 0]), 1),\n",
       " (array([0, 1, 0]), 1),\n",
       " (array([1, 0, 1]), 0),\n",
       " (array([0, 1, 1]), 0),\n",
       " (array([1, 1, 0]), 1),\n",
       " (array([0, 0, 1]), 0),\n",
       " (array([1, 0, 1]), 1),\n",
       " (array([1, 1, 0]), 1),\n",
       " (array([1, 1, 1]), 0),\n",
       " (array([1, 0, 1]), 1),\n",
       " (array([0, 1, 1]), 1),\n",
       " (array([1, 0, 0]), 1),\n",
       " (array([1, 1, 0]), 0),\n",
       " (array([1, 1, 1]), 0),\n",
       " (array([1, 1, 0]), 0),\n",
       " (array([0, 1, 0]), 1),\n",
       " (array([0, 0, 0]), 1),\n",
       " (array([1, 0, 1]), 1),\n",
       " (array([0, 0, 1]), 0),\n",
       " (array([1, 1, 0]), 1),\n",
       " (array([1, 0, 0]), 1),\n",
       " (array([0, 1, 1]), 1),\n",
       " (array([1, 1, 1]), 1),\n",
       " (array([0, 0, 0]), 1),\n",
       " (array([0, 1, 0]), 1),\n",
       " (array([1, 1, 1]), 1),\n",
       " (array([0, 0, 0]), 1),\n",
       " (array([1, 1, 1]), 1),\n",
       " (array([1, 1, 1]), 1),\n",
       " (array([0, 0, 0]), 1),\n",
       " (array([0, 1, 0]), 1),\n",
       " (array([1, 0, 0]), 0),\n",
       " (array([1, 0, 0]), 1),\n",
       " (array([0, 0, 1]), 0),\n",
       " (array([1, 0, 0]), 0),\n",
       " (array([1, 1, 1]), 0),\n",
       " (array([0, 0, 1]), 1),\n",
       " (array([0, 1, 1]), 1),\n",
       " (array([1, 0, 0]), 0),\n",
       " (array([1, 1, 0]), 0),\n",
       " (array([1, 0, 1]), 0),\n",
       " (array([1, 0, 0]), 0),\n",
       " (array([1, 1, 0]), 1),\n",
       " (array([1, 0, 1]), 0),\n",
       " (array([1, 0, 0]), 1),\n",
       " (array([1, 0, 0]), 1),\n",
       " (array([0, 1, 0]), 1),\n",
       " (array([1, 1, 1]), 0),\n",
       " (array([0, 0, 1]), 0),\n",
       " (array([1, 0, 0]), 0),\n",
       " (array([1, 1, 1]), 0),\n",
       " (array([0, 0, 1]), 1)]"
      ]
     },
     "execution_count": 105,
     "metadata": {},
     "output_type": "execute_result"
    }
   ],
   "source": [
    "list(map (lambda x,y:(x,y), features, target))"
   ]
  },
  {
   "cell_type": "markdown",
   "metadata": {},
   "source": [
    "The Bernoulli naive Bayes classifier assumes that all our features are binary such that they take only two values (e.g. a nominal categorical feature that has been one-hot encoded). Like its multinomial cousin, Bernoulli naive Bayes is often used in text classification, when our feature matrix is simply the presence or absence of a word in a document\n",
    "\n",
    "## 4 Calibrating Predicted Probabilities"
   ]
  },
  {
   "cell_type": "code",
   "execution_count": 122,
   "metadata": {},
   "outputs": [
    {
     "data": {
      "text/plain": [
       "array([[0.31859969, 0.63663466, 0.04476565]])"
      ]
     },
     "execution_count": 122,
     "metadata": {},
     "output_type": "execute_result"
    }
   ],
   "source": [
    "# Load libraries\n",
    "from sklearn import datasets\n",
    "from sklearn.naive_bayes import GaussianNB\n",
    "from sklearn.calibration import CalibratedClassifierCV\n",
    "\n",
    "# Load data\n",
    "iris = datasets.load_iris()\n",
    "features = iris.data\n",
    "target = iris.target\n",
    "\n",
    "# Create Gaussian Naive Bayes object\n",
    "classifer = GaussianNB()\n",
    "\n",
    "# Create calibrated cross-validation with sigmoid calibration\n",
    "classifer_sigmoid = CalibratedClassifierCV(classifer, \n",
    "                                           cv=2, method='sigmoid')\n",
    "\n",
    "# Calibrate probabilities\n",
    "classifer_sigmoid.fit(features, target)\n",
    "\n",
    "# Create new observation\n",
    "new_observation = [[ 2.6, 2.6, 2.6, 0.4]]\n",
    "\n",
    "# View calibrated probabilities\n",
    "classifer_sigmoid.predict_proba(new_observation)"
   ]
  },
  {
   "cell_type": "markdown",
   "metadata": {},
   "source": [
    "Specifically in naive Bayes, while the ranking of predicted probabilities for the different target classes is valid, the raw predicted probabilities tend to take on extreme values close to $0$ and $1$.\n",
    "\n",
    "If we train that classifier and then predict the class probabilities for a new observation, we can see very extreme probability estimates:"
   ]
  },
  {
   "cell_type": "code",
   "execution_count": 123,
   "metadata": {},
   "outputs": [
    {
     "data": {
      "text/plain": [
       "array([[2.31548432e-04, 9.99768128e-01, 3.23532277e-07]])"
      ]
     },
     "execution_count": 123,
     "metadata": {},
     "output_type": "execute_result"
    }
   ],
   "source": [
    "# Train a Gaussian naive Bayes then predict class probabilities\n",
    "classifer.fit(features, target).predict_proba(new_observation)"
   ]
  },
  {
   "cell_type": "markdown",
   "metadata": {},
   "source": [
    "## digits exams"
   ]
  },
  {
   "cell_type": "code",
   "execution_count": 69,
   "metadata": {},
   "outputs": [
    {
     "name": "stdout",
     "output_type": "stream",
     "text": [
      "vector from images 0: [ 0.  0.  5. 13.  9.  1.  0.  0.  0.  0. 13. 15. 10. 15.  5.  0.  0.  3.\n",
      " 15.  2.  0. 11.  8.  0.  0.  4. 12.  0.  0.  8.  8.  0.  0.  5.  8.  0.\n",
      "  0.  9.  8.  0.  0.  4. 11.  0.  1. 12.  7.  0.  0.  2. 14.  5. 10. 12.\n",
      "  0.  0.  0.  0.  6. 13. 10.  0.  0.  0.]\n"
     ]
    },
    {
     "data": {
      "image/png": "[encoded data removed]",
      "text/plain": [
       "<Figure size 432x288 with 25 Axes>"
      ]
     },
     "metadata": {
      "needs_background": "light"
     },
     "output_type": "display_data"
    }
   ],
   "source": [
    "import  matplotlib.pyplot as plt\n",
    "\n",
    "from sklearn import datasets,naive_bayes\n",
    "from sklearn.model_selection import train_test_split\n",
    "\n",
    "# 加载 scikit-learn 自带的 digits 数据集\n",
    "def load_data():\n",
    "    '''\n",
    "    加载用于分类问题的数据集。这里使用 scikit-learn 自带的 digits 数据集\n",
    "    '''\n",
    "    digits=datasets.load_digits()\n",
    "    return train_test_split(digits.data,digits.target,test_size=0.25,random_state=0,stratify=digits.target)\n",
    "\n",
    "def show_digits():\n",
    "    '''\n",
    "    绘制 digits 数据集。这里只是绘制数据集中前 25 个样本的图片。\n",
    "    '''\n",
    "    digits=datasets.load_digits()\n",
    "    fig=plt.figure()\n",
    "    print(\"vector from images 0:\",digits.data[0])\n",
    "    for i in range(25):\n",
    "        ax=fig.add_subplot(5,5,i+1)\n",
    "        ax.imshow(digits.images[i],cmap=plt.cm.gray_r, interpolation='nearest')\n",
    "    plt.show()\n",
    "\n",
    "show_digits()"
   ]
  },
  {
   "cell_type": "markdown",
   "metadata": {},
   "source": [
    "### GaussianNB"
   ]
  },
  {
   "cell_type": "code",
   "execution_count": 121,
   "metadata": {},
   "outputs": [
    {
     "name": "stdout",
     "output_type": "stream",
     "text": [
      "Training Score: 0.85\n",
      "Testing Score: 0.84\n"
     ]
    }
   ],
   "source": [
    "#高斯贝叶斯分类器GaussianNB模型\n",
    "def test_GaussianNB(*data):\n",
    "    X_train,X_test,y_train,y_test=data\n",
    "    cls=naive_bayes.GaussianNB()\n",
    "    cls.fit(X_train,y_train)\n",
    "    print('Training Score: %.2f' % cls.score(X_train,y_train))\n",
    "    print('Testing Score: %.2f' % cls.score(X_test, y_test))\n",
    "\n",
    "# 产生用于分类问题的数据集\n",
    "X_train,X_test,y_train,y_test=load_data()\n",
    "# 调用 test_GaussianNB    \n",
    "test_GaussianNB(X_train,X_test,y_train,y_test)"
   ]
  },
  {
   "cell_type": "markdown",
   "metadata": {},
   "source": [
    "### MultinomialNB"
   ]
  },
  {
   "cell_type": "code",
   "execution_count": 72,
   "metadata": {},
   "outputs": [
    {
     "name": "stdout",
     "output_type": "stream",
     "text": [
      "Training Score: 0.91\n",
      "Testing Score: 0.90\n"
     ]
    }
   ],
   "source": [
    "import numpy as np\n",
    "import  matplotlib.pyplot as plt\n",
    "\n",
    "from sklearn import datasets,naive_bayes\n",
    "from sklearn.model_selection import train_test_split\n",
    "\n",
    "# 加载 scikit-learn 自带的 digits 数据集\n",
    "def load_data():\n",
    "    '''\n",
    "    加载用于分类问题的数据集。这里使用 scikit-learn 自带的 digits 数据集\n",
    "    '''\n",
    "    digits=datasets.load_digits()\n",
    "    return train_test_split(digits.data,digits.target,test_size=0.25,random_state=0,stratify=digits.target)\n",
    "\n",
    "#多项式贝叶斯分类器MultinomialNB模型\n",
    "def test_MultinomialNB(*data):\n",
    "    X_train,X_test,y_train,y_test=data\n",
    "    cls=naive_bayes.MultinomialNB()\n",
    "    cls.fit(X_train,y_train)\n",
    "    print('Training Score: %.2f' % cls.score(X_train,y_train))\n",
    "    print('Testing Score: %.2f' % cls.score(X_test, y_test))\n",
    "    \n",
    "# 产生用于分类问题的数据集\n",
    "X_train,X_test,y_train,y_test=load_data()\n",
    "# 调用 test_GaussianNB    \n",
    "test_MultinomialNB(X_train,X_test,y_train,y_test)"
   ]
  },
  {
   "cell_type": "code",
   "execution_count": 73,
   "metadata": {},
   "outputs": [
    {
     "data": {
      "image/png": "[encoded data removed]",
      "text/plain": [
       "<Figure size 432x288 with 1 Axes>"
      ]
     },
     "metadata": {
      "needs_background": "light"
     },
     "output_type": "display_data"
    }
   ],
   "source": [
    "def test_MultinomialNB_alpha(*data):\n",
    "    '''\n",
    "    测试 MultinomialNB 的预测性能随 alpha 参数的影响\n",
    "    '''\n",
    "    X_train,X_test,y_train,y_test=data\n",
    "    alphas=np.logspace(-2,5,num=200)\n",
    "    train_scores=[]\n",
    "    test_scores=[]\n",
    "    for alpha in alphas:\n",
    "        cls=naive_bayes.MultinomialNB(alpha=alpha)\n",
    "        cls.fit(X_train,y_train)\n",
    "        train_scores.append(cls.score(X_train,y_train))\n",
    "        test_scores.append(cls.score(X_test, y_test))\n",
    "\n",
    "    ## 绘图\n",
    "    fig=plt.figure()\n",
    "    ax=fig.add_subplot(1,1,1)\n",
    "    ax.plot(alphas,train_scores,label=\"Training Score\")\n",
    "    ax.plot(alphas,test_scores,label=\"Testing Score\")\n",
    "    ax.set_xlabel(r\"$\\alpha$\")\n",
    "    ax.set_ylabel(\"score\")\n",
    "    ax.set_ylim(0,1.0)\n",
    "    ax.set_title(\"MultinomialNB\")\n",
    "    ax.set_xscale(\"log\")\n",
    "    plt.show()\n",
    "    \n",
    "# 调用 test_MultinomialNB_alpha    \n",
    "test_MultinomialNB_alpha(X_train,X_test,y_train,y_test)"
   ]
  },
  {
   "cell_type": "markdown",
   "metadata": {},
   "source": [
    "### BernoulliNB"
   ]
  },
  {
   "cell_type": "code",
   "execution_count": 74,
   "metadata": {},
   "outputs": [
    {
     "name": "stdout",
     "output_type": "stream",
     "text": [
      "Training Score: 0.87\n",
      "Testing Score: 0.87\n"
     ]
    }
   ],
   "source": [
    "import numpy as np\n",
    "import  matplotlib.pyplot as plt\n",
    "\n",
    "from sklearn import datasets,naive_bayes\n",
    "from sklearn.model_selection import train_test_split\n",
    "\n",
    "# 加载 scikit-learn 自带的 digits 数据集\n",
    "def load_data():\n",
    "    '''\n",
    "    加载用于分类问题的数据集。这里使用 scikit-learn 自带的 digits 数据集\n",
    "    '''\n",
    "    digits=datasets.load_digits()\n",
    "    return train_test_split(digits.data,digits.target,test_size=0.25,random_state=0,stratify=digits.target)\n",
    "\n",
    "#伯努利贝叶斯BernoulliNB模型\n",
    "def test_BernoulliNB(*data):\n",
    "    X_train,X_test,y_train,y_test=data\n",
    "    cls=naive_bayes.BernoulliNB()\n",
    "    cls.fit(X_train,y_train)\n",
    "    print('Training Score: %.2f' % cls.score(X_train,y_train))\n",
    "    print('Testing Score: %.2f' % cls.score(X_test, y_test))\n",
    "          \n",
    "# 产生用于分类问题的数据集\n",
    "X_train,X_test,y_train,y_test=load_data()\n",
    "# 调用 test_BernoulliNB\n",
    "test_BernoulliNB(X_train,X_test,y_train,y_test)"
   ]
  },
  {
   "cell_type": "code",
   "execution_count": 75,
   "metadata": {},
   "outputs": [
    {
     "data": {
      "image/png": "[encoded data removed]",
      "text/plain": [
       "<Figure size 432x288 with 1 Axes>"
      ]
     },
     "metadata": {
      "needs_background": "light"
     },
     "output_type": "display_data"
    }
   ],
   "source": [
    "def test_BernoulliNB_alpha(*data):\n",
    "    '''\n",
    "    测试 BernoulliNB 的预测性能随 alpha 参数的影响\n",
    "    '''\n",
    "    X_train,X_test,y_train,y_test=data\n",
    "    alphas=np.logspace(-2,5,num=200)\n",
    "    train_scores=[]\n",
    "    test_scores=[]\n",
    "    for alpha in alphas:\n",
    "        cls=naive_bayes.BernoulliNB(alpha=alpha)\n",
    "        cls.fit(X_train,y_train)\n",
    "        train_scores.append(cls.score(X_train,y_train))\n",
    "        test_scores.append(cls.score(X_test, y_test))\n",
    "\n",
    "    ## 绘图\n",
    "    fig=plt.figure()\n",
    "    ax=fig.add_subplot(1,1,1)\n",
    "    ax.plot(alphas,train_scores,label=\"Training Score\")\n",
    "    ax.plot(alphas,test_scores,label=\"Testing Score\")\n",
    "    ax.set_xlabel(r\"$\\alpha$\")\n",
    "    ax.set_ylabel(\"score\")\n",
    "    ax.set_ylim(0,1.0)\n",
    "    ax.set_title(\"BernoulliNB\")\n",
    "    ax.set_xscale(\"log\")\n",
    "    ax.legend(loc=\"best\")\n",
    "    plt.show()\n",
    "    \n",
    "# 调用 test_BernoulliNB_alpha   \n",
    "test_BernoulliNB_alpha(X_train,X_test,y_train,y_test)"
   ]
  },
  {
   "cell_type": "code",
   "execution_count": null,
   "metadata": {},
   "outputs": [],
   "source": []
  }
 ],
 "metadata": {
  "kernelspec": {
   "display_name": "Python 3",
   "language": "python",
   "name": "python3"
  },
  "language_info": {
   "codemirror_mode": {
    "name": "ipython",
    "version": 3
   },
   "file_extension": ".py",
   "mimetype": "text/x-python",
   "name": "python",
   "nbconvert_exporter": "python",
   "pygments_lexer": "ipython3",
   "version": "3.6.8"
  }
 },
 "nbformat": 4,
 "nbformat_minor": 2
}
