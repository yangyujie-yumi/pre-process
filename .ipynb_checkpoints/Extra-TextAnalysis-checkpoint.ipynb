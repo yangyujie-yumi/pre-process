{
 "cells": [
  {
   "cell_type": "code",
   "execution_count": 13,
   "metadata": {},
   "outputs": [
    {
     "name": "stdout",
     "output_type": "stream",
     "text": [
      "单词数：8\n",
      "分词：{'the': 7, 'quick': 6, 'brown': 0, 'fox': 2, 'jumps': 3, 'over': 5, 'lazy': 4, 'dog': 1}\n"
     ]
    }
   ],
   "source": [
    "from sklearn.feature_extraction.text import CountVectorizer\n",
    "vect = CountVectorizer()\n",
    "en = ['The quick brown fox jumps over a lazy dog']\n",
    "vect.fit(en)\n",
    "print('单词数：{}'.format(len(vect.vocabulary_)))\n",
    "print('分词：{}'.format(vect.vocabulary_))"
   ]
  },
  {
   "cell_type": "code",
   "execution_count": 2,
   "metadata": {},
   "outputs": [
    {
     "data": {
      "text/plain": [
       "CountVectorizer(analyzer='word', binary=False, decode_error='strict',\n",
       "                dtype=<class 'numpy.int64'>, encoding='utf-8', input='content',\n",
       "                lowercase=True, max_df=1.0, max_features=None, min_df=1,\n",
       "                ngram_range=(1, 1), preprocessor=None, stop_words=None,\n",
       "                strip_accents=None, token_pattern='(?u)\\\\b\\\\w\\\\w+\\\\b',\n",
       "                tokenizer=None, vocabulary=None)"
      ]
     },
     "execution_count": 2,
     "metadata": {},
     "output_type": "execute_result"
    }
   ],
   "source": [
    "vect"
   ]
  },
  {
   "cell_type": "markdown",
   "metadata": {},
   "source": [
    "### Applying bag-of-words to a toy dataset"
   ]
  },
  {
   "cell_type": "code",
   "execution_count": 8,
   "metadata": {},
   "outputs": [
    {
     "data": {
      "text/plain": [
       "CountVectorizer(analyzer='word', binary=False, decode_error='strict',\n",
       "                dtype=<class 'numpy.int64'>, encoding='utf-8', input='content',\n",
       "                lowercase=True, max_df=1.0, max_features=None, min_df=1,\n",
       "                ngram_range=(1, 1), preprocessor=None, stop_words=None,\n",
       "                strip_accents=None, token_pattern='(?u)\\\\b\\\\w\\\\w+\\\\b',\n",
       "                tokenizer=None, vocabulary=None)"
      ]
     },
     "execution_count": 8,
     "metadata": {},
     "output_type": "execute_result"
    }
   ],
   "source": [
    "from sklearn.feature_extraction.text import CountVectorizer\n",
    "vect = CountVectorizer()\n",
    "\n",
    "bards_words =[\"The fool doth think he is wise,\",\n",
    "              \"but the wise man knows himself to be a fool\"]\n",
    "vect.fit(bards_words)"
   ]
  },
  {
   "cell_type": "code",
   "execution_count": 40,
   "metadata": {},
   "outputs": [
    {
     "name": "stdout",
     "output_type": "stream",
     "text": [
      "vocabulary number: 13\n",
      "vocabulary content:\n",
      "{'the': 9, 'fool': 3, 'doth': 2, 'think': 10, 'he': 4, 'is': 6, 'wise': 12, 'but': 1, 'man': 8, 'knows': 7, 'himself': 5, 'to': 11, 'be': 0}\n"
     ]
    }
   ],
   "source": [
    "print('vocabulary number: {}'.format(len(vect.vocabulary_)))\n",
    "print('vocabulary content:\\n{}'.format(vect.vocabulary_))"
   ]
  },
  {
   "cell_type": "code",
   "execution_count": 35,
   "metadata": {
    "scrolled": true
   },
   "outputs": [
    {
     "name": "stdout",
     "output_type": "stream",
     "text": [
      "[[0 0 1 1 1 0 1 0 0 1 1 0 1]\n",
      " [1 1 0 1 0 1 0 1 1 1 0 1 1]]\n"
     ]
    }
   ],
   "source": [
    "bag_of_words = vect.transform(bards_words)\n",
    "print(bag_of_words.toarray())"
   ]
  },
  {
   "cell_type": "code",
   "execution_count": 3,
   "metadata": {},
   "outputs": [
    {
     "name": "stdout",
     "output_type": "stream",
     "text": [
      "单词数：1\n",
      "分词：{'那只敏捷的棕色狐狸跳过了一只懒惰的狗': 0}\n"
     ]
    }
   ],
   "source": [
    "cn = ['那只敏捷的棕色狐狸跳过了一只懒惰的狗']\n",
    "vect.fit(cn)\n",
    "print('单词数：{}'.format(len(vect.vocabulary_)))\n",
    "print('分词：{}'.format(vect.vocabulary_))"
   ]
  },
  {
   "cell_type": "code",
   "execution_count": 41,
   "metadata": {},
   "outputs": [
    {
     "name": "stdout",
     "output_type": "stream",
     "text": [
      "['那 只 敏捷 的 棕色 狐狸 跳过 了 一只 懒惰 的 狗']\n"
     ]
    }
   ],
   "source": [
    "import jieba\n",
    "cn = jieba.cut('那只敏捷的棕色狐狸跳过了一只懒惰的狗')\n",
    "cn = [' '.join(cn)]\n",
    "print(cn)"
   ]
  },
  {
   "cell_type": "code",
   "execution_count": 44,
   "metadata": {},
   "outputs": [
    {
     "name": "stdout",
     "output_type": "stream",
     "text": [
      "单词数：6\n",
      "分词：{'敏捷': 2, '棕色': 3, '狐狸': 4, '跳过': 5, '一只': 0, '懒惰': 1}\n"
     ]
    }
   ],
   "source": [
    "vect.fit(cn)\n",
    "print('单词数：{}'.format(len(vect.vocabulary_)))\n",
    "print('分词：{}'.format(vect.vocabulary_))"
   ]
  },
  {
   "cell_type": "code",
   "execution_count": 45,
   "metadata": {},
   "outputs": [
    {
     "name": "stdout",
     "output_type": "stream",
     "text": [
      "转化为词袋的特征：\n",
      "<1x6 sparse matrix of type '<class 'numpy.int64'>'\n",
      "\twith 6 stored elements in Compressed Sparse Row format>\n"
     ]
    }
   ],
   "source": [
    "bag_of_words = vect.transform(cn)\n",
    "print('转化为词袋的特征：\\n{}'.format(repr(bag_of_words)))"
   ]
  },
  {
   "cell_type": "code",
   "execution_count": 46,
   "metadata": {},
   "outputs": [
    {
     "name": "stdout",
     "output_type": "stream",
     "text": [
      "[[1 1 1 1 1 1]]\n"
     ]
    }
   ],
   "source": [
    "print(bag_of_words.toarray())"
   ]
  },
  {
   "cell_type": "code",
   "execution_count": 8,
   "metadata": {},
   "outputs": [
    {
     "name": "stdout",
     "output_type": "stream",
     "text": [
      "词袋的密度表达：\n",
      "[[1 1 1 1 1 1]]\n"
     ]
    }
   ],
   "source": [
    "print('词袋的密度表达：\\n{}'.format(bag_of_words.toarray()))"
   ]
  },
  {
   "cell_type": "code",
   "execution_count": 9,
   "metadata": {},
   "outputs": [
    {
     "name": "stdout",
     "output_type": "stream",
     "text": [
      "['懒惰 的 狐狸 不如 敏捷 的 狐狸 敏捷 , 敏捷 的 狐狸 不如 懒惰 的 狐狸 懒惰']\n"
     ]
    }
   ],
   "source": [
    "cn_1 = jieba.cut('懒惰的狐狸不如敏捷的狐狸敏捷,敏捷的狐狸不如懒惰的狐狸懒惰')\n",
    "cn2 = [' '.join(cn_1)]\n",
    "print(cn2)"
   ]
  },
  {
   "cell_type": "code",
   "execution_count": 10,
   "metadata": {},
   "outputs": [
    {
     "name": "stdout",
     "output_type": "stream",
     "text": [
      "转化为词袋的特征：\n",
      "<1x6 sparse matrix of type '<class 'numpy.int64'>'\n",
      "\twith 3 stored elements in Compressed Sparse Row format>\n",
      "词袋的密度表达：\n",
      "[[0 3 3 0 4 0]]\n"
     ]
    }
   ],
   "source": [
    "new_bag = vect.transform(cn2)\n",
    "print('转化为词袋的特征：\\n{}'.format(repr(new_bag)))\n",
    "print('词袋的密度表达：\\n{}'.format(new_bag.toarray()))"
   ]
  },
  {
   "cell_type": "markdown",
   "metadata": {},
   "source": [
    "### Bag of words with more than one word (n-grams)"
   ]
  },
  {
   "cell_type": "code",
   "execution_count": 2,
   "metadata": {},
   "outputs": [
    {
     "name": "stdout",
     "output_type": "stream",
     "text": [
      "['it’s bad, not good at all', 'it’s good, not bad at all']\n"
     ]
    }
   ],
   "source": [
    "bards_words = ['it’s bad, not good at all','it’s good, not bad at all']\n",
    "print(bards_words)"
   ]
  },
  {
   "cell_type": "markdown",
   "metadata": {},
   "source": [
    "single tokens are also called *unigrams*"
   ]
  },
  {
   "cell_type": "code",
   "execution_count": 17,
   "metadata": {},
   "outputs": [
    {
     "name": "stdout",
     "output_type": "stream",
     "text": [
      "6\n",
      "['all', 'at', 'bad', 'good', 'it', 'not']\n"
     ]
    }
   ],
   "source": [
    "cv = CountVectorizer(ngram_range=(1, 1)).fit(bards_words)\n",
    "print(len(cv.vocabulary_))\n",
    "print(cv.get_feature_names())"
   ]
  },
  {
   "cell_type": "code",
   "execution_count": 18,
   "metadata": {},
   "outputs": [
    {
     "data": {
      "text/plain": [
       "array([[1, 1, 1, 1, 1, 1],\n",
       "       [1, 1, 1, 1, 1, 1]])"
      ]
     },
     "execution_count": 18,
     "metadata": {},
     "output_type": "execute_result"
    }
   ],
   "source": [
    "cv.transform(bards_words).toarray()"
   ]
  },
  {
   "cell_type": "markdown",
   "metadata": {},
   "source": [
    "*bigrams*, that is only at sequences of two tokens following each other"
   ]
  },
  {
   "cell_type": "code",
   "execution_count": 9,
   "metadata": {},
   "outputs": [
    {
     "name": "stdout",
     "output_type": "stream",
     "text": [
      "9\n",
      "['at all', 'bad at', 'bad not', 'good at', 'good not', 'it bad', 'it good', 'not bad', 'not good']\n"
     ]
    }
   ],
   "source": [
    "cv = CountVectorizer(ngram_range=(2, 2)).fit(bards_words)\n",
    "print(len(cv.vocabulary_))\n",
    "print(cv.get_feature_names())"
   ]
  },
  {
   "cell_type": "code",
   "execution_count": 10,
   "metadata": {},
   "outputs": [
    {
     "data": {
      "text/plain": [
       "array([[1, 0, 1, 1, 0, 1, 0, 0, 1],\n",
       "       [1, 1, 0, 0, 1, 0, 1, 1, 0]])"
      ]
     },
     "execution_count": 10,
     "metadata": {},
     "output_type": "execute_result"
    }
   ],
   "source": [
    "cv.transform(bards_words).toarray()"
   ]
  },
  {
   "cell_type": "markdown",
   "metadata": {},
   "source": [
    "using *unigrams*, *bigrams* and *trigrams* on `bards_words` looks like:"
   ]
  },
  {
   "cell_type": "code",
   "execution_count": 5,
   "metadata": {},
   "outputs": [
    {
     "name": "stdout",
     "output_type": "stream",
     "text": [
      "23\n",
      "['all', 'at', 'at all', 'bad', 'bad at', 'bad at all', 'bad not', 'bad not good', 'good', 'good at', 'good at all', 'good not', 'good not bad', 'it', 'it bad', 'it bad not', 'it good', 'it good not', 'not', 'not bad', 'not bad at', 'not good', 'not good at']\n"
     ]
    }
   ],
   "source": [
    "cv = CountVectorizer(ngram_range=(1, 3)).fit(bards_words)\n",
    "print(len(cv.vocabulary_))\n",
    "print(cv.get_feature_names())"
   ]
  },
  {
   "cell_type": "code",
   "execution_count": 6,
   "metadata": {},
   "outputs": [
    {
     "data": {
      "text/plain": [
       "array([[1, 1, 1, 1, 0, 0, 1, 1, 1, 1, 1, 0, 0, 1, 1, 1, 0, 0, 1, 0, 0, 1,\n",
       "        1],\n",
       "       [1, 1, 1, 1, 1, 1, 0, 0, 1, 0, 0, 1, 1, 1, 0, 0, 1, 1, 1, 1, 1, 0,\n",
       "        0]])"
      ]
     },
     "execution_count": 6,
     "metadata": {},
     "output_type": "execute_result"
    }
   ],
   "source": [
    "cv.transform(bards_words).toarray()"
   ]
  },
  {
   "cell_type": "markdown",
   "metadata": {},
   "source": [
    "A Chinses examples"
   ]
  },
  {
   "cell_type": "code",
   "execution_count": 11,
   "metadata": {},
   "outputs": [
    {
     "name": "stdout",
     "output_type": "stream",
     "text": [
      "这句话的特征表达：\n",
      "[[1 1 1 1 1 1]]\n"
     ]
    }
   ],
   "source": [
    "joke = jieba.cut('道士看见和尚亲吻了尼姑的嘴唇')\n",
    "joke = [' '.join(joke)]\n",
    "vect.fit(joke)\n",
    "joke_feature = vect.transform(joke)\n",
    "print('这句话的特征表达：\\n{}'.format(joke_feature.toarray()))"
   ]
  },
  {
   "cell_type": "code",
   "execution_count": 12,
   "metadata": {},
   "outputs": [
    {
     "name": "stdout",
     "output_type": "stream",
     "text": [
      "这句话的特征表达：\n",
      "[[1 1 1 1 1 1]]\n"
     ]
    }
   ],
   "source": [
    "joke2 = jieba.cut('尼姑看见道士的嘴唇亲吻了和尚')\n",
    "joke2 = [' '.join(joke2)]\n",
    "joke2_feature = vect.transform(joke2)\n",
    "print('这句话的特征表达：\\n{}'.format(joke2_feature.toarray()))"
   ]
  },
  {
   "cell_type": "code",
   "execution_count": 13,
   "metadata": {},
   "outputs": [
    {
     "name": "stdout",
     "output_type": "stream",
     "text": [
      "调整n-Gram参数后的词典：['亲吻 尼姑', '和尚 亲吻', '尼姑 嘴唇', '看见 和尚', '道士 看见']\n",
      "新的特征表达：[[1 1 1 1 1]]\n"
     ]
    }
   ],
   "source": [
    "vect = CountVectorizer(ngram_range=(2,2))\n",
    "cv = vect.fit(joke)\n",
    "joke_feature = cv.transform(joke)\n",
    "print('调整n-Gram参数后的词典：{}'.format(cv.get_feature_names()))\n",
    "print('新的特征表达：{}'.format(joke_feature.toarray()))"
   ]
  },
  {
   "cell_type": "code",
   "execution_count": 14,
   "metadata": {},
   "outputs": [
    {
     "name": "stdout",
     "output_type": "stream",
     "text": [
      "这句话的特征表达：\n",
      "[[0 0 0 0 0]]\n"
     ]
    }
   ],
   "source": [
    "joke2 = jieba.cut('尼姑看见道士的嘴唇亲吻了和尚')\n",
    "joke2 = [' '.join(joke2)]\n",
    "joke2_feature = vect.transform(joke2)\n",
    "print('这句话的特征表达：\\n{}'.format(joke2_feature.toarray()))"
   ]
  },
  {
   "cell_type": "code",
   "execution_count": 15,
   "metadata": {},
   "outputs": [
    {
     "name": "stdout",
     "output_type": "stream",
     "text": [
      "['亲吻', '和尚', '嘴唇', '尼姑', '看见', '道士']\n"
     ]
    }
   ],
   "source": [
    "from sklearn.feature_extraction.text import TfidfVectorizer\n",
    "tf = TfidfVectorizer().fit(joke)\n",
    "print(tf.get_feature_names())\n"
   ]
  },
  {
   "cell_type": "markdown",
   "metadata": {},
   "source": [
    "### Stop-words"
   ]
  },
  {
   "cell_type": "code",
   "execution_count": null,
   "metadata": {},
   "outputs": [],
   "source": [
    "from sklearn.feature_extraction.text import ENGLISH_STOP_WORDS\n",
    "# print number of stop words\n",
    "print(len(ENGLISH_STOP_WORDS))\n",
    "\n",
    "# print some of the stop words\n",
    "print(list(ENGLISH_STOP_WORDS)[::10])"
   ]
  },
  {
   "cell_type": "code",
   "execution_count": 3,
   "metadata": {},
   "outputs": [],
   "source": [
    "from nltk.corpus import stopwords\n",
    "list_sw = list(set(stopwords.words('english')))"
   ]
  },
  {
   "cell_type": "code",
   "execution_count": 6,
   "metadata": {},
   "outputs": [
    {
     "data": {
      "text/plain": [
       "['with', 'was', 's', 'mustn', 'because', 'doing', 'these', 'were', 'how', 'me']"
      ]
     },
     "execution_count": 6,
     "metadata": {},
     "output_type": "execute_result"
    }
   ],
   "source": [
    "list_sw[:10]"
   ]
  },
  {
   "cell_type": "markdown",
   "metadata": {},
   "source": [
    "### Text Data Analysis Excercise\n",
    "\n",
    "**Note**: Mac OS上使用Python3读取文件过程中出现了`UnicodeDecodeError: 'utf-8' codec can't decode byte 0x80 in position 3131: invalid start byte`情况。 \n",
    "\n",
    "原因是：OS X系统在文件夹中存在隐藏文件`.DS_Store`文件，影响了文件读取。\n",
    "\n",
    "解决办法是：使用命令行进入当读取文件所在文件夹，删除`.DS_Store`文件。\n",
    "\n",
    "1. 使用命令`ls -a`可以查看到`.DS_Store`文件\n",
    "\n",
    "2. `rm .DS_Store`。"
   ]
  },
  {
   "cell_type": "code",
   "execution_count": 2,
   "metadata": {},
   "outputs": [
    {
     "name": "stdout",
     "output_type": "stream",
     "text": [
      "\u001b[01;34m./datasets/aclImdb_lite\u001b[00m\r\n",
      "├── README\r\n",
      "├── imdb.vocab\r\n",
      "├── imdbEr.txt\r\n",
      "├── \u001b[01;34mtest\u001b[00m\r\n",
      "│   ├── labeledBow.feat\r\n",
      "│   ├── \u001b[01;34mneg\u001b[00m\r\n",
      "│   ├── \u001b[01;34mpos\u001b[00m\r\n",
      "│   ├── urls_neg.txt\r\n",
      "│   └── urls_pos.txt\r\n",
      "└── \u001b[01;34mtrain\u001b[00m\r\n",
      "    ├── labeledBow.feat\r\n",
      "    ├── \u001b[01;34mneg\u001b[00m\r\n",
      "    ├── \u001b[01;34mpos\u001b[00m\r\n",
      "    ├── \u001b[01;34munsup\u001b[00m\r\n",
      "    ├── unsupBow.feat\r\n",
      "    ├── urls_neg.txt\r\n",
      "    ├── urls_pos.txt\r\n",
      "    └── urls_unsup.txt\r\n",
      "\r\n",
      "7 directories, 11 files\r\n"
     ]
    }
   ],
   "source": [
    "!tree -L 2 ./datasets/aclImdb_lite\n",
    "#请将aclImdb替换成你放置数据集的文件夹地址"
   ]
  },
  {
   "cell_type": "code",
   "execution_count": 1,
   "metadata": {},
   "outputs": [],
   "source": [
    "from sklearn.feature_extraction.text import CountVectorizer\n",
    "import numpy as np\n",
    "vect = CountVectorizer()"
   ]
  },
  {
   "cell_type": "code",
   "execution_count": 2,
   "metadata": {},
   "outputs": [
    {
     "name": "stdout",
     "output_type": "stream",
     "text": [
      "训练集文件数量:15002\n"
     ]
    }
   ],
   "source": [
    "from sklearn.datasets import load_files\n",
    "train_set = load_files('./datasets/aclImdb_lite/train/')\n",
    "X_train, y_train = train_set.data, train_set.target\n",
    "\n",
    "print('训练集文件数量:{}'.format(len(X_train)))"
   ]
  },
  {
   "cell_type": "code",
   "execution_count": 3,
   "metadata": {},
   "outputs": [
    {
     "name": "stdout",
     "output_type": "stream",
     "text": [
      "随机抽一个看看:\n",
      " b\"A dog found in a local kennel is mated with Satan and has a litter of puppies, one of which is given to a family who has just lost their previous dog to a hit & run. The puppy wants no time in making like Donald Trump and firing the Mexican housekeeper, how festive. Only the father suspects that this canine is more then he appears, the rest of the family loves the demonic pooch. So it's up to dad to say the day.<br /><br />This late 70's made for TV horror flick has little going for it except a misplaced feeling of nostalgia. When I saw this as a kid I found it to be a tense nail-biter, but revisiting it as an adult I now realize that it's merely lame,boring, and not really well-acted in the least bit.<br /><br />My Grade: D\"\n"
     ]
    }
   ],
   "source": [
    "print('随机抽一个看看:\\n', X_train[3275])"
   ]
  },
  {
   "cell_type": "code",
   "execution_count": 4,
   "metadata": {},
   "outputs": [],
   "source": [
    "X_train = [doc.replace(b'<br />', b' ') for doc in X_train]"
   ]
  },
  {
   "cell_type": "code",
   "execution_count": 5,
   "metadata": {},
   "outputs": [
    {
     "name": "stdout",
     "output_type": "stream",
     "text": [
      "随机抽一个看看:\n",
      " b\"A dog found in a local kennel is mated with Satan and has a litter of puppies, one of which is given to a family who has just lost their previous dog to a hit & run. The puppy wants no time in making like Donald Trump and firing the Mexican housekeeper, how festive. Only the father suspects that this canine is more then he appears, the rest of the family loves the demonic pooch. So it's up to dad to say the day.  This late 70's made for TV horror flick has little going for it except a misplaced feeling of nostalgia. When I saw this as a kid I found it to be a tense nail-biter, but revisiting it as an adult I now realize that it's merely lame,boring, and not really well-acted in the least bit.  My Grade: D\" 0\n"
     ]
    }
   ],
   "source": [
    "print('随机抽一个看看:\\n', X_train[3275], y_train[3275])"
   ]
  },
  {
   "cell_type": "code",
   "execution_count": 6,
   "metadata": {},
   "outputs": [
    {
     "data": {
      "text/plain": [
       "5002"
      ]
     },
     "execution_count": 6,
     "metadata": {},
     "output_type": "execute_result"
    }
   ],
   "source": [
    "test = load_files('./datasets/aclImdb_lite/test/')\n",
    "X_test, y_test = test.data, test.target\n",
    "X_test = [doc.replace(b'<br />', b' ') for doc in X_test]\n",
    "len(X_test)"
   ]
  },
  {
   "cell_type": "code",
   "execution_count": 7,
   "metadata": {},
   "outputs": [],
   "source": [
    "vect = CountVectorizer().fit(X_train)\n",
    "X_train_vect = vect.transform(X_train)"
   ]
  },
  {
   "cell_type": "code",
   "execution_count": 8,
   "metadata": {},
   "outputs": [
    {
     "name": "stdout",
     "output_type": "stream",
     "text": [
      "训练集样本特征数量：58998\n",
      "最后10个训练集样本特征：['élan', 'émigré', 'étonné', 'ôkami', 'über', 'ıslam', 'ōtomo', 'дом', 'книги', '色戒']\n"
     ]
    }
   ],
   "source": [
    "print('训练集样本特征数量：{}'.format(len(vect.get_feature_names())))\n",
    "print('最后10个训练集样本特征：{}'.format(vect.get_feature_names()[-10:]))"
   ]
  },
  {
   "cell_type": "code",
   "execution_count": 9,
   "metadata": {},
   "outputs": [
    {
     "name": "stderr",
     "output_type": "stream",
     "text": [
      "/Library/Frameworks/Python.framework/Versions/3.6/lib/python3.6/site-packages/sklearn/model_selection/_split.py:1978: FutureWarning: The default value of cv will change from 3 to 5 in version 0.22. Specify it explicitly to silence this warning.\n",
      "  warnings.warn(CV_WARNING, FutureWarning)\n",
      "/Library/Frameworks/Python.framework/Versions/3.6/lib/python3.6/site-packages/sklearn/svm/base.py:929: ConvergenceWarning: Liblinear failed to converge, increase the number of iterations.\n",
      "  \"the number of iterations.\", ConvergenceWarning)\n"
     ]
    },
    {
     "name": "stdout",
     "output_type": "stream",
     "text": [
      "模型平均分：0.734\n"
     ]
    }
   ],
   "source": [
    "from sklearn.svm import LinearSVC\n",
    "from sklearn.model_selection import cross_val_score\n",
    "scores = cross_val_score(LinearSVC(), X_train_vect, y_train)\n",
    "print('模型平均分：{:.3f}'.format(scores.mean()))"
   ]
  },
  {
   "cell_type": "code",
   "execution_count": 10,
   "metadata": {},
   "outputs": [
    {
     "name": "stdout",
     "output_type": "stream",
     "text": [
      "测试集模型得分：0.2734906037584966\n"
     ]
    }
   ],
   "source": [
    "X_test_vect = vect.transform(X_test)\n",
    "clf = LinearSVC().fit(X_train_vect, y_train)\n",
    "print('测试集模型得分：{}'.format(clf.score(X_test_vect, y_test)))"
   ]
  },
  {
   "cell_type": "code",
   "execution_count": 11,
   "metadata": {},
   "outputs": [
    {
     "name": "stdout",
     "output_type": "stream",
     "text": [
      "未经tfidf处理的特征：\n",
      " [[0 0 0 0 0]\n",
      " [0 0 0 0 0]\n",
      " [0 0 0 0 0]\n",
      " [0 0 0 0 0]\n",
      " [0 0 0 0 0]]\n",
      "经过tfidf处理的特征：\n",
      " [[0. 0. 0. 0. 0.]\n",
      " [0. 0. 0. 0. 0.]\n",
      " [0. 0. 0. 0. 0.]\n",
      " [0. 0. 0. 0. 0.]\n",
      " [0. 0. 0. 0. 0.]]\n"
     ]
    }
   ],
   "source": [
    "from sklearn.feature_extraction.text import TfidfTransformer\n",
    "tfidf = TfidfTransformer(smooth_idf = False)\n",
    "tfidf.fit(X_train_vect)\n",
    "X_train_tfidf = tfidf.transform(X_train_vect)\n",
    "X_test_tfidf = tfidf.transform(X_test_vect)\n",
    "\n",
    "print('未经tfidf处理的特征：\\n',X_train_vect[:5,:5].toarray())\n",
    "print('经过tfidf处理的特征：\\n',X_train_tfidf[:5,:5].toarray())"
   ]
  },
  {
   "cell_type": "code",
   "execution_count": 12,
   "metadata": {},
   "outputs": [
    {
     "name": "stderr",
     "output_type": "stream",
     "text": [
      "/Library/Frameworks/Python.framework/Versions/3.6/lib/python3.6/site-packages/sklearn/model_selection/_split.py:1978: FutureWarning: The default value of cv will change from 3 to 5 in version 0.22. Specify it explicitly to silence this warning.\n",
      "  warnings.warn(CV_WARNING, FutureWarning)\n"
     ]
    },
    {
     "name": "stdout",
     "output_type": "stream",
     "text": [
      "经过tf-idf处理的训练集交叉验证得分：0.734\n",
      "经过tf-idf处理的测试集得分：0.189\n"
     ]
    }
   ],
   "source": [
    "clf = LinearSVC().fit(X_train_tfidf, y_train)\n",
    "scores2 = cross_val_score(LinearSVC(), X_train_tfidf, y_train)\n",
    "\n",
    "print('经过tf-idf处理的训练集交叉验证得分：{:.3f}'.format(scores.mean()))\n",
    "print('经过tf-idf处理的测试集得分：{:.3f}'.format(clf.score(X_test_tfidf,\n",
    "                                                y_test)))"
   ]
  },
  {
   "cell_type": "code",
   "execution_count": 13,
   "metadata": {},
   "outputs": [
    {
     "name": "stdout",
     "output_type": "stream",
     "text": [
      "停用词个数： 318\n",
      "列出前20个和最后20个：\n",
      " ['somewhere', 'five', 'go', 'more', 'an', 'ltd', 'they', 'how', 'thereafter', 'becoming', 'then', 'here', 'seem', 'even', 'his', 'at', 'found', 'onto', 'seems', 'among'] ['everyone', 'one', 'few', 'have', 'or', 'with', 'fifteen', 'nine', 'made', 'fire', 'eleven', 'please', 'etc', 'on', 'around', 'inc', 'up', 'moreover', 'are', 'con']\n"
     ]
    }
   ],
   "source": [
    "from sklearn.feature_extraction.text import ENGLISH_STOP_WORDS\n",
    "print('停用词个数：', len(ENGLISH_STOP_WORDS))\n",
    "print('列出前20个和最后20个：\\n', list(ENGLISH_STOP_WORDS)[:20],\n",
    "     list(ENGLISH_STOP_WORDS)[-20:])"
   ]
  },
  {
   "cell_type": "code",
   "execution_count": 14,
   "metadata": {},
   "outputs": [
    {
     "name": "stderr",
     "output_type": "stream",
     "text": [
      "/Library/Frameworks/Python.framework/Versions/3.6/lib/python3.6/site-packages/sklearn/model_selection/_split.py:1978: FutureWarning: The default value of cv will change from 3 to 5 in version 0.22. Specify it explicitly to silence this warning.\n",
      "  warnings.warn(CV_WARNING, FutureWarning)\n"
     ]
    },
    {
     "name": "stdout",
     "output_type": "stream",
     "text": [
      "去掉停用词后训练集交叉验证平均分：0.792\n",
      "去掉停用词后测试集模型得分：0.192\n"
     ]
    }
   ],
   "source": [
    "from sklearn.feature_extraction.text import TfidfVectorizer\n",
    "tfidf = TfidfVectorizer(smooth_idf = False, stop_words = 'english')\n",
    "tfidf.fit(X_train)\n",
    "X_train_tfidf = tfidf.transform(X_train)\n",
    "\n",
    "scores3 = cross_val_score(LinearSVC(), X_train_tfidf, y_train)\n",
    "clf.fit(X_train_tfidf, y_train)\n",
    "X_test_tfidf = tfidf.transform(X_test)\n",
    "print('去掉停用词后训练集交叉验证平均分：{:.3f}'.format(scores3.mean()))\n",
    "print('去掉停用词后测试集模型得分：{:.3f}'.format(clf.score(X_test_tfidf, \n",
    "                                              y_test)))"
   ]
  },
  {
   "cell_type": "markdown",
   "metadata": {
    "collapsed": true
   },
   "source": [
    "### Topic Modeling and Document Clustering"
   ]
  },
  {
   "cell_type": "code",
   "execution_count": 15,
   "metadata": {},
   "outputs": [],
   "source": [
    "text_train = X_train"
   ]
  },
  {
   "cell_type": "code",
   "execution_count": 16,
   "metadata": {},
   "outputs": [
    {
     "name": "stdout",
     "output_type": "stream",
     "text": [
      "type of text_train:  <class 'list'>\n",
      "length of text_train:  15002\n",
      "text_train[1]:\n",
      "b\"Just dreadful movie. Something about Dr. Durea (J. Carrol Naish sadly) helping Dracula revive Frankenstein (for some reason) and searching for some new blood serum...or something.  To be totally honest the plot makes little sense! I saw this on TV multiple times when I was little--loved it then. I just saw the new DVD put out a few years ago. My childhood memories have been destroyed! This is pretty horrid. The camera-work is dreadful and the blood and gore (which looked cool when I was little) is laughably fake now. Dracula played by the immortal Zandor Vorkov (actually Roger Engel) has a silly goatee, silly fake fangs and his voice is constantly echoing. Frankenstein (John Bloom) just looks like he has a severe case of the mumps. Naish actually gives a good performance--quite a feat considering his lines make no sense. Sadly this was his last role. Also the last role for Lon Chaney who plays a hulking, mute axe murderer. Also Regina Carrol (the directors wife) is mixed up in this and Anthony Eisley (who's not bad) playing a VERY old hippy.  This is worth a peek for horror fans and it does have hysterically bad dialogue and a plot that will keep you guessing (what it's about). This was made over the course of a couple of years and the story kept changing--that's evident in the final product.  On one hand I think this is worth seeing for camp value. On the other hand it's embarrassing to watch Naish and Chaney reduced to this. Proceed at your own risk.\"\n"
     ]
    }
   ],
   "source": [
    "print(\"type of text_train: \", type(text_train))\n",
    "print(\"length of text_train: \", len(text_train))\n",
    "print(\"text_train[1]:\")\n",
    "print(text_train[1])"
   ]
  },
  {
   "cell_type": "code",
   "execution_count": 17,
   "metadata": {},
   "outputs": [],
   "source": [
    "text_train = [doc.replace(b\"<br />\", b\" \") for doc in text_train]"
   ]
  },
  {
   "cell_type": "code",
   "execution_count": 18,
   "metadata": {},
   "outputs": [
    {
     "data": {
      "text/plain": [
       "15002"
      ]
     },
     "execution_count": 18,
     "metadata": {},
     "output_type": "execute_result"
    }
   ],
   "source": [
    "len(text_train)"
   ]
  },
  {
   "cell_type": "code",
   "execution_count": 19,
   "metadata": {},
   "outputs": [],
   "source": [
    "vect = CountVectorizer(max_features=10000, max_df=.15)\n",
    "X = vect.fit_transform(text_train)"
   ]
  },
  {
   "cell_type": "code",
   "execution_count": 20,
   "metadata": {},
   "outputs": [
    {
     "data": {
      "text/plain": [
       "(15002, 10000)"
      ]
     },
     "execution_count": 20,
     "metadata": {},
     "output_type": "execute_result"
    }
   ],
   "source": [
    "X.shape"
   ]
  },
  {
   "cell_type": "code",
   "execution_count": 21,
   "metadata": {},
   "outputs": [],
   "source": [
    "from sklearn.decomposition import LatentDirichletAllocation\n",
    "lda_model = LatentDirichletAllocation(10, #n_topics=10\n",
    "                                      learning_method=\"batch\", \n",
    "                                      max_iter=25, random_state=0)\n",
    "# be build the model and transform the data in one step\n",
    "# computing transform takes some time, and we can save time by doing both at once.\n",
    "document_topics = lda_model.fit_transform(X)"
   ]
  },
  {
   "cell_type": "code",
   "execution_count": 56,
   "metadata": {},
   "outputs": [
    {
     "data": {
      "text/plain": [
       "(10, 10000)"
      ]
     },
     "execution_count": 56,
     "metadata": {},
     "output_type": "execute_result"
    }
   ],
   "source": [
    "lda_model.components_.shape"
   ]
  },
  {
   "cell_type": "code",
   "execution_count": 57,
   "metadata": {},
   "outputs": [
    {
     "data": {
      "text/plain": [
       "array([[1.81851874e-03, 1.81866557e-03, 1.93028972e-01, ...,\n",
       "        1.81846836e-03, 4.19848046e-01, 3.74392975e-01],\n",
       "       [2.49640549e-01, 8.69757958e-04, 8.69807657e-04, ...,\n",
       "        5.54202727e-02, 3.39387919e-01, 8.69789028e-04],\n",
       "       [3.70484518e-03, 3.70452286e-03, 3.70540584e-03, ...,\n",
       "        3.70512929e-03, 9.66656811e-01, 3.70556042e-03],\n",
       "       ...,\n",
       "       [1.04188735e-03, 1.11246113e-01, 1.04190254e-03, ...,\n",
       "        1.04189553e-03, 5.03802280e-01, 1.04201956e-03],\n",
       "       [1.92337464e-03, 1.92354295e-03, 1.61096651e-01, ...,\n",
       "        1.92338407e-03, 1.55055823e-01, 1.92357381e-03],\n",
       "       [3.70439345e-03, 3.70417329e-03, 3.70493349e-03, ...,\n",
       "        9.66660745e-01, 3.70506900e-03, 3.70416660e-03]])"
      ]
     },
     "execution_count": 57,
     "metadata": {},
     "output_type": "execute_result"
    }
   ],
   "source": [
    "document_topics"
   ]
  },
  {
   "cell_type": "code",
   "execution_count": 24,
   "metadata": {},
   "outputs": [],
   "source": [
    "# for each topic (a row in the components_), sort the features (ascending).\n",
    "# Invert rows with [:, ::-1] to make sorting descending\n",
    "sorting = np.argsort(lda_model.components_, axis=1)[:, ::-1]\n",
    "# get the feature names from the vectorizer:\n",
    "feature_names = np.array(vect.get_feature_names())"
   ]
  },
  {
   "cell_type": "code",
   "execution_count": 25,
   "metadata": {},
   "outputs": [],
   "source": [
    "def print_top_words(model, feature_names, n_top_words):\n",
    "    #打印每个主题下权重较高的term\n",
    "    for topic_idx, topic in enumerate(model.components_):\n",
    "        print(\"Topic %d:\" % topic_idx)\n",
    "        print(\" \".join([feature_names[i]\n",
    "                        for i in topic.argsort()[:-n_top_words - 1:-1]]))"
   ]
  },
  {
   "cell_type": "code",
   "execution_count": 26,
   "metadata": {},
   "outputs": [
    {
     "name": "stdout",
     "output_type": "stream",
     "text": [
      "Topic 0:\n",
      "horror action killer effects budget dead pretty blood gore special low look fun fans zombie\n",
      "Topic 1:\n",
      "comedy role funny cast plays charlie john old performance robert played new actor fun show\n",
      "Topic 2:\n",
      "family girl father mother old young son wife woman home boy gets daughter now find\n",
      "Topic 3:\n",
      "horror book series mike mystery peter phantasm original house performance quite david though murder role\n",
      "Topic 4:\n",
      "musical role version robin cast star hollywood brothers performance action john flynn king play prince\n",
      "Topic 5:\n",
      "city new western york smith town kevin american war stewart john james holmes comedy british\n",
      "Topic 6:\n",
      "world sex us our own violence black men director woman seems take audience women fact\n",
      "Topic 7:\n",
      "show series tv episode now dvd game new saw original again watching find star remember\n",
      "Topic 8:\n",
      "funny didn why watching thing actors 10 re thought nothing lot actually want going give\n",
      "Topic 9:\n",
      "director between performance both war work music beautiful us actors world excellent yet role true\n"
     ]
    }
   ],
   "source": [
    "print_top_words(lda_model,feature_names,15)"
   ]
  },
  {
   "cell_type": "markdown",
   "metadata": {},
   "source": [
    "Using only ten topics, each of the topics needs to be very broad, so that they can together cover all the different kinds of reviews in our dataset.\n",
    " \n",
    "Next, we will learn another model, this time with 100 topics. Using more topics makes the analysis much harder, but makes it more likely that topics can specialize to intesting subsets of the data."
   ]
  },
  {
   "cell_type": "code",
   "execution_count": 22,
   "metadata": {},
   "outputs": [],
   "source": [
    "lda100 = LatentDirichletAllocation(100, \n",
    "                                   learning_method=\"batch\", \n",
    "                                   max_iter=25, random_state=0)\n",
    "document_topics100 = lda100.fit_transform(X)"
   ]
  },
  {
   "cell_type": "code",
   "execution_count": 53,
   "metadata": {},
   "outputs": [
    {
     "name": "stdout",
     "output_type": "stream",
     "text": [
      "Topic 0:\n",
      "record thomas maris baseball mantle billy jane mickey crystal home roger press sports 61 barry\n",
      "Topic 1:\n",
      "davis tom ms julie role bette dress howard wind william fonda plays new gone southern\n",
      "Topic 2:\n",
      "family daughter father son kim brother old boat girl ki river mother native beautiful duk\n",
      "Topic 3:\n",
      "car english british gangster cars american actors accents language accent french german sound camera racing\n",
      "Topic 4:\n",
      "oliver jesus sign christ music mark musical reed bill fagin kane bishop mr lester juice\n",
      "Topic 5:\n",
      "powell douglas turner hollywood jackie jonathan shields chan lana dick producer big kirk studio work\n",
      "Topic 6:\n",
      "star luke wars ring sadako death battle final ringu jedi return vader new empire original\n",
      "Topic 7:\n",
      "series episode episodes season new show tv star original trek space pilot now part seasons\n",
      "Topic 8:\n",
      "bit quite doesn lenny bruce though seems lot seem different comic style part work makes\n",
      "Topic 9:\n",
      "cannibal fly seth jeff horror goldblum cronenberg holocaust apocalypse flesh lena saxon john 1980 hannah\n",
      "Topic 10:\n",
      "robin flynn hood errol john alex olivia western de orange city dodge town kubrick role\n",
      "Topic 11:\n",
      "match garden hitler stone mary documentary angle secret basic instinct rock championship sharon ring got\n",
      "Topic 12:\n",
      "sex girl women woman guy sexual male men young female baby wants before mom dog\n",
      "Topic 13:\n",
      "shark hills beverly cop jaws von water footage trier europa ii sequel murphy corman original\n",
      "Topic 14:\n",
      "cooper national marc nelson charles stargate los moustache march gary lubitsch noir ernest lake angeles\n",
      "Topic 15:\n",
      "war american world during soldiers army military us german against america soldier enemy history men\n",
      "Topic 16:\n",
      "world us art human director different yet work cinema feel style own mind our camera\n",
      "Topic 17:\n",
      "funny comedy laugh humor hilarious jokes fun laughs laughing ll comedies lot 10 moments re\n",
      "Topic 18:\n",
      "lee smith kevin jason clerks joe jay pesci vinny bob yee role cousin lust canada\n",
      "Topic 19:\n",
      "kevin home new alone york same going che family gets again harry christmas another hotel\n",
      "Topic 20:\n",
      "quite interesting 10 though bit watching however rather fact far few doesn didn give isn\n",
      "Topic 21:\n",
      "miike grant jim house mr legs comedy cary yokai blandings fun 3d douglas loy us\n",
      "Topic 22:\n",
      "western korean holmes stars milestone george old quite picture louis washington hughes west director fans\n",
      "Topic 23:\n",
      "show john devil burns boys matthau comedy shows tv now death each old things abc\n",
      "Topic 24:\n",
      "young old three gremlins named kid father party leigh house right now billy birthday girl\n",
      "Topic 25:\n",
      "lady new york city hell blah bill george kill lemmon snowblood jack tarantino dennis nyc\n",
      "Topic 26:\n",
      "scary gable glass lombard clark superman village pretty mountain james screamers worlds million clayburgh bond\n",
      "Topic 27:\n",
      "sinatra suddenly president freddy john candy town train always gates now gun frank may hayden\n",
      "Topic 28:\n",
      "monster wood welles frankenstein dr ed lake simon orson dracula al colbert head adamson looks\n",
      "Topic 29:\n",
      "dance dancing rogers fred musical songs singing astaire dunne ginger song lovely gets play carol\n",
      "Topic 30:\n",
      "blues music indie elwood lighting john willie russian hollywood band brothers race independent jake eva\n",
      "Topic 31:\n",
      "book read novel adaptation books version stewart henry reading based author screen novels john original\n",
      "Topic 32:\n",
      "16 willis goku farley def greek mos blocks perry altman sword bruce jr medical whole\n",
      "Topic 33:\n",
      "black white scooby video doo cut dvd color looks treasure god now version want new\n",
      "Topic 34:\n",
      "jackson holmes invisible bollywood verhoeven jamie levy hollow indian sherlock watson samuel role guy bacon\n",
      "Topic 35:\n",
      "martin steve cagney noir alan arkin james classic ward cast white carl reiner bogart gidget\n",
      "Topic 36:\n",
      "chuck bill taylor buffalo victor west wild sharpe nazi indians norris jane last american granger\n",
      "Topic 37:\n",
      "italian giallo red score revenge killer genre murders thriller richard anthony moore cinema fans quite\n",
      "Topic 38:\n",
      "japanese chinese fox kong hong china leopard asian japan hollywood jennifer wang sandra leung muni\n",
      "Topic 39:\n",
      "zombie zombies brothers dead bloom con bang stephen penelope johnson brody gold mummies convicts town\n",
      "Topic 40:\n",
      "worst awful nothing actors wasted script avoid anything worse simply cast waste completely instead seems\n",
      "Topic 41:\n",
      "kids children cartoon adults kid parents school cartoons child family adult bugs old teacher mulder\n",
      "Topic 42:\n",
      "anne pat michael del christopher nick vincent jan walken george toro carmen cheesy mst3k act\n",
      "Topic 43:\n",
      "eddie murphy kelly ned mansion ride burn child coen brothers haunted family cast reading pirates\n",
      "Topic 44:\n",
      "sex porn girls women interesting soft drugs men nudity violence language drug core same german\n",
      "Topic 45:\n",
      "show shows tv television watching always spielberg week episode program every news family hope cassidy\n",
      "Topic 46:\n",
      "horror killer pretty scary gore blood guy kill house gets slasher girl looking town around\n",
      "Topic 47:\n",
      "didn why thing thought want watching got going someone wasn maybe things couldn actually whole\n",
      "Topic 48:\n",
      "city few set however part interesting puzzle making script times past director might work writer\n",
      "Topic 49:\n",
      "version shakespeare branagh play hamlet text nolte role kenneth plays campbell sara spy versions cast\n",
      "Topic 50:\n",
      "charlie shop brown stewart johnny frank jimmy around morgan especially clerk corner team each gets\n",
      "Topic 51:\n",
      "mother wife father son family woman finds home young becomes tells meets boy husband each\n",
      "Topic 52:\n",
      "crime street violence star black violent hip quinn across anthony mafia hop march makes mob\n",
      "Topic 53:\n",
      "earth planet plane science humans fiction apes flight human wells mark dragons alien species burton\n",
      "Topic 54:\n",
      "jones terminator tommy son hank tooth kyle valley iraq michael lee marcus john fairy haggis\n",
      "Topic 55:\n",
      "beowulf couple marriage mexican between sex amelie mexico grendel wedding amrita shahid girl en things\n",
      "Topic 56:\n",
      "paul garfield french carla conchita boxing mathieu lips fight obscure bunuel strip jet li actresses\n",
      "Topic 57:\n",
      "king historical century period russian accurate costumes prince sir 20th tank production cabin epic history\n",
      "Topic 58:\n",
      "actors marie erotic miller henry wilson anderson wife paris june griffith victoria work richards uma\n",
      "Topic 59:\n",
      "ship max computer enterprise crew collector iv wing tribe today spock thought macmurray traveler set\n",
      "Topic 60:\n",
      "festival school documentary rock music high students new roll ruth ramones director babe woodstock big\n",
      "Topic 61:\n",
      "chris women tongue cheek calendar monk girls louise margaret full verne annie few long helen\n",
      "Topic 62:\n",
      "town cult kirk leave our gas alley down girl truck nuclear doug island crew daniel\n",
      "Topic 63:\n",
      "game games fantasy play final played graphics chess 10 video playing evil squall resident alien\n",
      "Topic 64:\n",
      "oscar award family winning academy won arthur role performance nominated year old moore actor john\n",
      "Topic 65:\n",
      "beach bear coming surfing big own new become lost friends both lives age part each\n",
      "Topic 66:\n",
      "three serial killer brothers gorilla tim house ritz conway solve detectives stooges mystery lionel stevens\n",
      "Topic 67:\n",
      "batman lucy george wayne zone bruce animated twilight old judy phantasm lennie mice series joker\n",
      "Topic 68:\n",
      "script poor director actors terrible worst re poorly attempt supposed enough awful production isn making\n",
      "Topic 69:\n",
      "hitchcock harry window trouble dead reporter rear body cold shirley seems suspense why tension forsythe\n",
      "Topic 70:\n",
      "crawford joan ben miss sadie rain marple stiller hunt christie role patrick san swayze jack\n",
      "Topic 71:\n",
      "murder police crime sean richard prison case death harris connery himself suspect young lawyer law\n",
      "Topic 72:\n",
      "horror ann house young lee role peter played star director daughter stories texas christopher hammer\n",
      "Topic 73:\n",
      "la nikita 80s jean early besson drama hard found ups 90s art actress jill luc\n",
      "Topic 74:\n",
      "animation disney original animated sequel prince cinderella care songs king music beast cgi bears magic\n",
      "Topic 75:\n",
      "horror thriller dark ghost werewolf woods ginger killer suspense david original atmosphere chilling seven detective\n",
      "Topic 76:\n",
      "robert romantic de actor performance guy romance duvall kate plays 10 niro cast actors comedy\n",
      "Topic 77:\n",
      "us our audience political society point own social message without american rather fact however perhaps\n",
      "Topic 78:\n",
      "money waste stupid worst crap maggie please boring worth minutes night watching rent prom friends\n",
      "Topic 79:\n",
      "angel zizek lynch deniro nene feature dvd cinema walt theory bonnie gay extras three guide\n",
      "Topic 80:\n",
      "adam sandler dolph australia david dave style ian job lundgren family baldwin australian cavite billy\n",
      "Topic 81:\n",
      "husband woman wife elizabeth short betty true find call leaving sobieski beyond maria seems lawrence\n",
      "Topic 82:\n",
      "dead horror stupid crap oh lame killer why boring goes hell valentine office piece guy\n",
      "Topic 83:\n",
      "andy washington virgin davies antwone fisher 40 denzel priest year silent de old marion steve\n",
      "Topic 84:\n",
      "world allen young anna rose child new screen lives women between parents woody self both\n",
      "Topic 85:\n",
      "paul music beatles john band let school roller rock concert songs together got down kidman\n",
      "Topic 86:\n",
      "franco romero street rat bar naked new interesting segment hellgate city swedish later bit mulberry\n",
      "Topic 87:\n",
      "action fight guys guy hard cop john martial hero gets die fights fighting arts pretty\n",
      "Topic 88:\n",
      "cool ha thank ll writing freeman review morgan believe anyone screen timberlake actor actors help\n",
      "Topic 89:\n",
      "peter karen hook gregory dorothy pan streep silkwood girl hepburn meryl oscar plant williams mimi\n",
      "Topic 90:\n",
      "dvd saw remember tv again now am old ago find watched video since year copy\n",
      "Topic 91:\n",
      "actors excellent wonderful performance amazing job beautiful role cast 10 recommend performances loved done definitely\n",
      "Topic 92:\n",
      "soap christmas opera columbo gay robert cast version script brooks jr hawn foster both goldie\n",
      "Topic 93:\n",
      "effects budget special low sci fi look big actors cheap aliens done fan probably re\n",
      "Topic 94:\n",
      "mike tall phantasm questions conspiracy reggie question 11 truth why answer horror government loose jody\n",
      "Topic 95:\n",
      "horror vampire dracula cat lugosi karloff island universal lewton black atmosphere vampires count dr bela\n",
      "Topic 96:\n",
      "musical song music stage songs cabaret singing version numbers liza fosse sing play grey soundtrack\n",
      "Topic 97:\n",
      "city hill men god history war both marcos sides william ana peck between south chop\n",
      "Topic 98:\n",
      "scott classic performance christmas wonderful every version scrooge perfect george remake almost lucas death makes\n",
      "Topic 99:\n",
      "sam moon sisters down holiday court cops young gun violent girls gets evil reese escapes\n"
     ]
    }
   ],
   "source": [
    "# for each topic (a row in the components_), sort the features (ascending).\n",
    "# Invert rows with [:, ::-1] to make sorting descending\n",
    "sorting = np.argsort(lda100.components_, axis=1)[:, ::-1]\n",
    "# get the feature names from the vectorizer:\n",
    "feature_names = np.array(vect.get_feature_names())\n",
    "\n",
    "print_top_words(lda100,feature_names,15)"
   ]
  },
  {
   "cell_type": "code",
   "execution_count": 54,
   "metadata": {},
   "outputs": [],
   "source": [
    "# sort by weight of \"cartoon\" topic 17\n",
    "comedy = np.argsort(document_topics100[:,17])[::-1]"
   ]
  },
  {
   "cell_type": "code",
   "execution_count": 55,
   "metadata": {},
   "outputs": [
    {
     "name": "stdout",
     "output_type": "stream",
     "text": [
      "b'I love this movie. I watch this over and over, and every time I watch it, I find a different scene that I missed before.\\n'\n",
      "b'One of my favourite movies - and many people will probably fall asleep or think: \"What\\'s the point?\". I can\\'t really tell - except that I like that movie.\\n'\n",
      "b'This movie is just plain silly. Almost every scene has some bit of humor: running gags, slapstick, and great jokes.\\n'\n",
      "b\"The Ladies Man is a funny movie. There's not much thought behind it, but what do you expect from an SNL movie? It's actually better than most SNL movies (i.\\n\"\n",
      "b\"this movie is hilarious! my friends and i couldn't stop laughing. and the way the professional actors try to learn how to be a gangsta from a book is even funnier! go and see this movie now! i recommend it totally! go, y r u stilL here? GO ~!!!.\\n\"\n",
      "b'\"The Birdcage\" is a hilarious movie about a happily \"married\" gay couple, forced to play straight for the marriage for Armond\\'s son and his conservative in-laws. Even though it is a bit stereotypical, it was played with charm and energy and is absolutely irresistible.\\n'\n",
      "b'This movie is so hilarious I can not even put it down on the comment box, that is just how insanely funny this movie is. This is one of the funniest if not the funniest movie(s) I have ever seen in my life.\\n'\n",
      "b\"first of all I would like to say I thought the movie was hilarious and it's one of my favorite movies today. I think critics are taking this movie way to seriously .\\n\"\n",
      "b\"It was hard to rate this movie. It had some definite funny parts, and some horribly bad parts, and I originally wasn't gunna review it.\\n\"\n",
      "b'By 1941, the boys - Stan Laurel and Oliver Hardy - were getting \"long in the tooth\" and their films showed it. Sadly, they kept going for awhile after this movie.\\n'\n"
     ]
    }
   ],
   "source": [
    "# print the five documents where the topic is most important\n",
    "for i in comedy[:10]:\n",
    "        # pshow first two sentences\n",
    "        print(b\".\".join(text_train[i].split(b\".\")[:2]) + b\".\\n\")"
   ]
  },
  {
   "cell_type": "code",
   "execution_count": 56,
   "metadata": {},
   "outputs": [
    {
     "data": {
      "image/png": "[encoded data removed]",
      "text/plain": [
       "<Figure size 720x720 with 2 Axes>"
      ]
     },
     "metadata": {
      "needs_background": "light"
     },
     "output_type": "display_data"
    }
   ],
   "source": [
    "import numpy as np\n",
    "import matplotlib.pyplot as plt\n",
    "fig, ax = plt.subplots(1,2,figsize=(10,10))\n",
    "topic_names = [\"{:>2} \".format(i) + \" \".join(words) \n",
    "               for i, words in enumerate(feature_names[sorting[:,:2]])]\n",
    "\n",
    "# two column ba chart:\n",
    "for col in [0,1]:\n",
    "    start = col * 50\n",
    "    end = (col + 1) * 50\n",
    "    ax[col].barh(np.arange(50),np.sum(document_topics100,axis=0)[start:end])\n",
    "    ax[col].set_yticks(np.arange(50))\n",
    "    ax[col].set_yticklabels(topic_names[start:end],ha=\"left\",va=\"top\")\n",
    "    ax[col].invert_yaxis()\n",
    "    ax[col].set_xlim(0,2000)\n",
    "    yax = ax[col].get_yaxis()\n",
    "    yax.set_tick_params(pad=130)\n",
    "plt.tight_layout()"
   ]
  },
  {
   "cell_type": "code",
   "execution_count": null,
   "metadata": {},
   "outputs": [],
   "source": []
  }
 ],
 "metadata": {
  "kernelspec": {
   "display_name": "Python 3",
   "language": "python",
   "name": "python3"
  },
  "language_info": {
   "codemirror_mode": {
    "name": "ipython",
    "version": 3
   },
   "file_extension": ".py",
   "mimetype": "text/x-python",
   "name": "python",
   "nbconvert_exporter": "python",
   "pygments_lexer": "ipython3",
   "version": "3.6.8"
  }
 },
 "nbformat": 4,
 "nbformat_minor": 2
}
